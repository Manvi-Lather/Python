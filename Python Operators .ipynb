{
 "cells": [
  {
   "cell_type": "code",
   "execution_count": null,
   "id": "fbc498e6",
   "metadata": {},
   "outputs": [],
   "source": [
    "# Logical \n",
    "# Equality\n",
    "# comparision\n",
    "# Arithmetic"
   ]
  },
  {
   "cell_type": "code",
   "execution_count": 2,
   "id": "164942c2",
   "metadata": {},
   "outputs": [
    {
     "data": {
      "text/plain": [
       "bool"
      ]
     },
     "execution_count": 2,
     "metadata": {},
     "output_type": "execute_result"
    }
   ],
   "source": [
    "type(True )"
   ]
  },
  {
   "cell_type": "code",
   "execution_count": 3,
   "id": "f53a9313",
   "metadata": {},
   "outputs": [
    {
     "data": {
      "text/plain": [
       "True"
      ]
     },
     "execution_count": 3,
     "metadata": {},
     "output_type": "execute_result"
    }
   ],
   "source": [
    "bool(1)"
   ]
  },
  {
   "cell_type": "code",
   "execution_count": 4,
   "id": "4d75697d",
   "metadata": {},
   "outputs": [],
   "source": [
    "a = True \n",
    "b = False"
   ]
  },
  {
   "cell_type": "code",
   "execution_count": 5,
   "id": "c66c407f",
   "metadata": {},
   "outputs": [
    {
     "data": {
      "text/plain": [
       "False"
      ]
     },
     "execution_count": 5,
     "metadata": {},
     "output_type": "execute_result"
    }
   ],
   "source": [
    "a and b"
   ]
  },
  {
   "cell_type": "code",
   "execution_count": 6,
   "id": "911101ce",
   "metadata": {},
   "outputs": [
    {
     "data": {
      "text/plain": [
       "False"
      ]
     },
     "execution_count": 6,
     "metadata": {},
     "output_type": "execute_result"
    }
   ],
   "source": [
    "a & b"
   ]
  },
  {
   "cell_type": "code",
   "execution_count": 7,
   "id": "d22d1847",
   "metadata": {},
   "outputs": [
    {
     "data": {
      "text/plain": [
       "True"
      ]
     },
     "execution_count": 7,
     "metadata": {},
     "output_type": "execute_result"
    }
   ],
   "source": [
    "a or b"
   ]
  },
  {
   "cell_type": "code",
   "execution_count": 8,
   "id": "ce2fff09",
   "metadata": {},
   "outputs": [
    {
     "data": {
      "text/plain": [
       "True"
      ]
     },
     "execution_count": 8,
     "metadata": {},
     "output_type": "execute_result"
    }
   ],
   "source": [
    "a | b"
   ]
  },
  {
   "cell_type": "code",
   "execution_count": 9,
   "id": "00eb8ca8",
   "metadata": {},
   "outputs": [
    {
     "data": {
      "text/plain": [
       "False"
      ]
     },
     "execution_count": 9,
     "metadata": {},
     "output_type": "execute_result"
    }
   ],
   "source": [
    "not True "
   ]
  },
  {
   "cell_type": "code",
   "execution_count": 10,
   "id": "b1fa9c0a",
   "metadata": {},
   "outputs": [
    {
     "data": {
      "text/plain": [
       "True"
      ]
     },
     "execution_count": 10,
     "metadata": {},
     "output_type": "execute_result"
    }
   ],
   "source": [
    "not False\n"
   ]
  },
  {
   "cell_type": "code",
   "execution_count": 15,
   "id": "a67f2ebc",
   "metadata": {},
   "outputs": [
    {
     "name": "stdout",
     "output_type": "stream",
     "text": [
      "enter the age: 19\n",
      "successful execution\n"
     ]
    }
   ],
   "source": [
    "age = int(input('enter the age: '))\n",
    "\n",
    "\n",
    "if age > 18 and age <= 35: \n",
    "    print(\"successful execution\")"
   ]
  },
  {
   "cell_type": "code",
   "execution_count": null,
   "id": "476f1b05",
   "metadata": {},
   "outputs": [],
   "source": [
    "# # equality operator \n",
    "\n",
    "\n",
    "\n",
    "# is \n",
    "\n",
    "# is not\n",
    "\n",
    "# == \n",
    "\n",
    "# !="
   ]
  },
  {
   "cell_type": "code",
   "execution_count": 16,
   "id": "80d381ab",
   "metadata": {},
   "outputs": [
    {
     "data": {
      "text/plain": [
       "10"
      ]
     },
     "execution_count": 16,
     "metadata": {},
     "output_type": "execute_result"
    }
   ],
   "source": [
    "a = 10\n",
    "    \n",
    "b = a\n",
    "b"
   ]
  },
  {
   "cell_type": "code",
   "execution_count": 17,
   "id": "577c9ceb",
   "metadata": {},
   "outputs": [
    {
     "data": {
      "text/plain": [
       "True"
      ]
     },
     "execution_count": 17,
     "metadata": {},
     "output_type": "execute_result"
    }
   ],
   "source": [
    "b==a"
   ]
  },
  {
   "cell_type": "code",
   "execution_count": 18,
   "id": "da91c93d",
   "metadata": {},
   "outputs": [
    {
     "data": {
      "text/plain": [
       "False"
      ]
     },
     "execution_count": 18,
     "metadata": {},
     "output_type": "execute_result"
    }
   ],
   "source": [
    "b!=a"
   ]
  },
  {
   "cell_type": "code",
   "execution_count": 19,
   "id": "0dd5caa9",
   "metadata": {},
   "outputs": [
    {
     "data": {
      "text/plain": [
       "True"
      ]
     },
     "execution_count": 19,
     "metadata": {},
     "output_type": "execute_result"
    }
   ],
   "source": [
    "b is a"
   ]
  },
  {
   "cell_type": "code",
   "execution_count": 20,
   "id": "da71c064",
   "metadata": {},
   "outputs": [
    {
     "data": {
      "text/plain": [
       "False"
      ]
     },
     "execution_count": 20,
     "metadata": {},
     "output_type": "execute_result"
    }
   ],
   "source": [
    "b is not a"
   ]
  },
  {
   "cell_type": "code",
   "execution_count": 22,
   "id": "2af140af",
   "metadata": {},
   "outputs": [
    {
     "name": "stdout",
     "output_type": "stream",
     "text": [
      "2871840046768\n",
      "2871840046768\n"
     ]
    }
   ],
   "source": [
    "a = \"manvi\"\n",
    "\n",
    "\n",
    "b = \"manvi\"\n",
    "\n",
    "\n",
    "print(id(a))\n",
    "\n",
    "\n",
    "print(id(b))\n",
    "\n",
    "\n",
    "# same memory id /object"
   ]
  },
  {
   "cell_type": "code",
   "execution_count": 25,
   "id": "d603349c",
   "metadata": {},
   "outputs": [
    {
     "data": {
      "text/plain": [
       "True"
      ]
     },
     "execution_count": 25,
     "metadata": {},
     "output_type": "execute_result"
    }
   ],
   "source": [
    "a == b"
   ]
  },
  {
   "cell_type": "code",
   "execution_count": 26,
   "id": "7592d86a",
   "metadata": {},
   "outputs": [
    {
     "data": {
      "text/plain": [
       "True"
      ]
     },
     "execution_count": 26,
     "metadata": {},
     "output_type": "execute_result"
    }
   ],
   "source": [
    "a is b"
   ]
  },
  {
   "cell_type": "code",
   "execution_count": null,
   "id": "f44eb29c",
   "metadata": {},
   "outputs": [],
   "source": []
  },
  {
   "cell_type": "code",
   "execution_count": 23,
   "id": "9a9aaaf2",
   "metadata": {},
   "outputs": [
    {
     "name": "stdout",
     "output_type": "stream",
     "text": [
      "2871839176896\n",
      "2871845547008\n"
     ]
    }
   ],
   "source": [
    "list_1 = [1,2,3,4]\n",
    "\n",
    "\n",
    "list_2 = [1,2,3,4]\n",
    "\n",
    "\n",
    "print(id(list_1))\n",
    "\n",
    "\n",
    "print(id(list_2))"
   ]
  },
  {
   "cell_type": "code",
   "execution_count": 27,
   "id": "c1b98d6e",
   "metadata": {},
   "outputs": [
    {
     "data": {
      "text/plain": [
       "False"
      ]
     },
     "execution_count": 27,
     "metadata": {},
     "output_type": "execute_result"
    }
   ],
   "source": [
    "list_1 is list_2   #it is false as list_1 and list 2 does not point to same memory location "
   ]
  },
  {
   "cell_type": "code",
   "execution_count": 28,
   "id": "bd461f67",
   "metadata": {},
   "outputs": [
    {
     "data": {
      "text/plain": [
       "True"
      ]
     },
     "execution_count": 28,
     "metadata": {},
     "output_type": "execute_result"
    }
   ],
   "source": [
    "list_1 == list_2"
   ]
  },
  {
   "cell_type": "code",
   "execution_count": null,
   "id": "1d9ba981",
   "metadata": {},
   "outputs": [],
   "source": [
    "# # comparision operators \n",
    "\n",
    "# <\n",
    "# >\n",
    "# <=\n",
    "# >="
   ]
  },
  {
   "cell_type": "code",
   "execution_count": 29,
   "id": "2c729c97",
   "metadata": {},
   "outputs": [
    {
     "name": "stdout",
     "output_type": "stream",
     "text": [
      "Enter the marks90\n",
      "Pass\n"
     ]
    }
   ],
   "source": [
    "marks= float(input(\"Enter the marks\"))\n",
    "\n",
    "if marks>=35:\n",
    "    print(\"Pass\")\n",
    "    if marks>=50 and marks<=70:\n",
    "        print(\"First\")\n",
    "elif marks<35:\n",
    "    print(\"Fail\")"
   ]
  },
  {
   "cell_type": "code",
   "execution_count": null,
   "id": "b78ca1c1",
   "metadata": {},
   "outputs": [],
   "source": [
    "#Arithmetic Operators"
   ]
  },
  {
   "cell_type": "markdown",
   "id": "825887d7",
   "metadata": {},
   "source": [
    "Operation\tMeaning\n",
    "+\taddition\n",
    "-\tsubtraction\n",
    "*****\tmultiplication\n",
    "/\ttrue division\n",
    "//\tinteger division\n",
    "%\tthe modulo operator"
   ]
  },
  {
   "cell_type": "code",
   "execution_count": 30,
   "id": "52b1825a",
   "metadata": {},
   "outputs": [
    {
     "data": {
      "text/plain": [
       "48"
      ]
     },
     "execution_count": 30,
     "metadata": {},
     "output_type": "execute_result"
    }
   ],
   "source": [
    "24+24"
   ]
  },
  {
   "cell_type": "code",
   "execution_count": null,
   "id": "7435bfbc",
   "metadata": {},
   "outputs": [],
   "source": []
  }
 ],
 "metadata": {
  "kernelspec": {
   "display_name": "Python 3 (ipykernel)",
   "language": "python",
   "name": "python3"
  },
  "language_info": {
   "codemirror_mode": {
    "name": "ipython",
    "version": 3
   },
   "file_extension": ".py",
   "mimetype": "text/x-python",
   "name": "python",
   "nbconvert_exporter": "python",
   "pygments_lexer": "ipython3",
   "version": "3.10.9"
  }
 },
 "nbformat": 4,
 "nbformat_minor": 5
}
