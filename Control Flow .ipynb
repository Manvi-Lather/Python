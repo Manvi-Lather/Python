{
 "cells": [
  {
   "cell_type": "code",
   "execution_count": 11,
   "id": "cdb7d2fc",
   "metadata": {},
   "outputs": [
    {
     "name": "stdout",
     "output_type": "stream",
     "text": [
      "Enter the number 6\n",
      "the number is even\n"
     ]
    }
   ],
   "source": [
    "# if statement\n",
    "\n",
    "val=input(\"Enter the number \")\n",
    "value_float=float(val)\n",
    "if(value_float%2==0):\n",
    "    print(\"the number is even\")\n",
    "    "
   ]
  },
  {
   "cell_type": "code",
   "execution_count": 20,
   "id": "92069f17",
   "metadata": {},
   "outputs": [
    {
     "name": "stdout",
     "output_type": "stream",
     "text": [
      "Enter the number 9\n",
      "the number is not greater than 100\n"
     ]
    }
   ],
   "source": [
    "# if and else \n",
    "val=input(\"Enter the number \")\n",
    "value_float=float(val)\n",
    "if(value_float>100):\n",
    "    print(\"the number is greater than 100\")\n",
    "else: \n",
    "    print(\"the number is not greater than 100\")\n",
    "    "
   ]
  },
  {
   "cell_type": "code",
   "execution_count": 22,
   "id": "807e846c",
   "metadata": {},
   "outputs": [
    {
     "name": "stdout",
     "output_type": "stream",
     "text": [
      "enter the age: 67\n",
      "senior citizens\n"
     ]
    }
   ],
   "source": [
    "# nested if else condition \n",
    "\n",
    "\n",
    "age = float(input(\"enter the age: \"))\n",
    "\n",
    "if(age <18): \n",
    "    \n",
    "    print(\"mid age\")\n",
    "elif(age > 18 and age <=45): \n",
    "    \n",
    "    print('mid age')\n",
    "    \n",
    "elif(age>45 and age <= 50): \n",
    "    print('senior mid age')\n",
    "    \n",
    "else: \n",
    "    print('senior citizens')"
   ]
  },
  {
   "cell_type": "code",
   "execution_count": 23,
   "id": "4e6c6788",
   "metadata": {},
   "outputs": [
    {
     "name": "stdout",
     "output_type": "stream",
     "text": [
      "enter the age: 17\n",
      "mid age\n",
      "you are in college\n"
     ]
    }
   ],
   "source": [
    "# nested if else condition \n",
    "\n",
    "\n",
    "age = float(input(\"enter the age: \"))\n",
    "\n",
    "if(age <18): \n",
    "    \n",
    "    print(\"mid age\")\n",
    "    \n",
    "    if(age<15): \n",
    "        print('you are in school')\n",
    "    else: \n",
    "        print('you are in college')\n",
    "        \n",
    "elif(age > 18 and age <=45): \n",
    "    \n",
    "    print('mid age')\n",
    "    \n",
    "elif(age>45 and age <= 50): \n",
    "    print('senior mid age')\n",
    "    \n",
    "else: \n",
    "    print('senior citizens')"
   ]
  },
  {
   "cell_type": "code",
   "execution_count": 25,
   "id": "07bb6b0f",
   "metadata": {},
   "outputs": [
    {
     "name": "stdout",
     "output_type": "stream",
     "text": [
      "0\n",
      "0\n",
      "1\n",
      "2\n",
      "2\n",
      "4\n",
      "3\n",
      "6\n",
      "4\n",
      "8\n",
      "5\n",
      "10\n",
      "6\n",
      "12\n",
      "7\n",
      "14\n",
      "8\n",
      "16\n",
      "9\n",
      "18\n"
     ]
    }
   ],
   "source": [
    "# loops \n",
    "\n",
    "#  for loop \n",
    "\n",
    "lst= range(10)\n",
    "\n",
    "for num in lst: \n",
    "    print(num)\n",
    "    print(num*2)"
   ]
  },
  {
   "cell_type": "code",
   "execution_count": 29,
   "id": "4bf81305",
   "metadata": {},
   "outputs": [
    {
     "name": "stdout",
     "output_type": "stream",
     "text": [
      "45\n"
     ]
    }
   ],
   "source": [
    "# sum of all elements in list \n",
    "\n",
    "\n",
    "lst= range(10)\n",
    "\n",
    "all_sum = 0\n",
    "\n",
    "for num in lst: \n",
    "    all_sum= all_sum+ num\n",
    "    \n",
    "print(all_sum)"
   ]
  },
  {
   "cell_type": "code",
   "execution_count": 32,
   "id": "68b9dd60",
   "metadata": {},
   "outputs": [
    {
     "name": "stdout",
     "output_type": "stream",
     "text": [
      "even sum is 20\n",
      "odd sum is 25\n"
     ]
    }
   ],
   "source": [
    "# find sum of even and odd numbers \n",
    "\n",
    "\n",
    "lst = range(10)\n",
    "\n",
    "even_sum = 0 \n",
    "\n",
    "odd_sum = 0\n",
    "\n",
    "for i in lst: \n",
    "    \n",
    "    if (i % 2 ==0): \n",
    "        even_sum = even_sum + i\n",
    "    else: \n",
    "        odd_sum = odd_sum + i\n",
    "        \n",
    "        \n",
    "print(\"even sum is {}\".format(even_sum))\n",
    "print(\"odd sum is {}\".format(odd_sum))    \n",
    "    \n",
    "    "
   ]
  },
  {
   "cell_type": "code",
   "execution_count": 34,
   "id": "fa1366ac",
   "metadata": {},
   "outputs": [
    {
     "name": "stdout",
     "output_type": "stream",
     "text": [
      "0\n",
      "1\n",
      "2\n",
      "3\n",
      "4\n",
      "5\n",
      "6\n",
      "7\n",
      "8\n",
      "9\n",
      "10\n"
     ]
    }
   ],
   "source": [
    "# while condition \n",
    "\n",
    "i = 0 \n",
    "while(i<=10): \n",
    "    print(i)\n",
    "    i= i+1\n"
   ]
  },
  {
   "cell_type": "code",
   "execution_count": 35,
   "id": "59c58a4a",
   "metadata": {},
   "outputs": [
    {
     "name": "stdout",
     "output_type": "stream",
     "text": [
      "30 25\n"
     ]
    }
   ],
   "source": [
    "i = 0 \n",
    "even_sum = 0 \n",
    "odd_sum = 0 \n",
    "\n",
    "while(i<=10): \n",
    "    \n",
    "    if (i%2 == 0): \n",
    "        even_sum = even_sum + i \n",
    "    else: \n",
    "        odd_sum = odd_sum + i \n",
    "        \n",
    "        \n",
    "    i = i+ 1\n",
    "print(even_sum,odd_sum)"
   ]
  },
  {
   "cell_type": "code",
   "execution_count": 36,
   "id": "23f9dda6",
   "metadata": {},
   "outputs": [
    {
     "name": "stdout",
     "output_type": "stream",
     "text": [
      "1\n",
      "2\n",
      "3\n",
      "4\n"
     ]
    }
   ],
   "source": [
    "# break and continue : \n",
    "\n",
    "\n",
    "# break -- > come out of the condition \n",
    "\n",
    "\n",
    "\n",
    "x = 1\n",
    "\n",
    "while(x<7): \n",
    "    print(x)\n",
    "    \n",
    "    if x ==4: \n",
    "        break\n",
    "    x= x+1"
   ]
  },
  {
   "cell_type": "code",
   "execution_count": 42,
   "id": "9c1fcf6b",
   "metadata": {},
   "outputs": [
    {
     "name": "stdout",
     "output_type": "stream",
     "text": [
      "1\n",
      "2\n",
      "3\n"
     ]
    }
   ],
   "source": [
    "\n",
    "x = 1\n",
    "\n",
    "while(x<7): \n",
    "   \n",
    "    if x ==4: \n",
    "        break\n",
    "    print(x)\n",
    "    x= x+1"
   ]
  },
  {
   "cell_type": "code",
   "execution_count": 43,
   "id": "d9d60ada",
   "metadata": {},
   "outputs": [
    {
     "name": "stdout",
     "output_type": "stream",
     "text": [
      "2\n",
      "3\n",
      "5\n",
      "6\n",
      "7\n"
     ]
    }
   ],
   "source": [
    "# continue\n",
    "x = 1\n",
    "\n",
    "while(x<7): \n",
    "    x= x+1\n",
    "    if x ==4: \n",
    "        continue\n",
    "    print(x)\n",
    "   "
   ]
  },
  {
   "cell_type": "code",
   "execution_count": null,
   "id": "334f0f94",
   "metadata": {},
   "outputs": [],
   "source": []
  }
 ],
 "metadata": {
  "kernelspec": {
   "display_name": "Python 3 (ipykernel)",
   "language": "python",
   "name": "python3"
  },
  "language_info": {
   "codemirror_mode": {
    "name": "ipython",
    "version": 3
   },
   "file_extension": ".py",
   "mimetype": "text/x-python",
   "name": "python",
   "nbconvert_exporter": "python",
   "pygments_lexer": "ipython3",
   "version": "3.10.9"
  }
 },
 "nbformat": 4,
 "nbformat_minor": 5
}
