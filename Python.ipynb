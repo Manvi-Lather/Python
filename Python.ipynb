{
 "cells": [
  {
   "cell_type": "code",
   "execution_count": 5,
   "id": "028fb4c6",
   "metadata": {},
   "outputs": [],
   "source": [
    "# data pull from SQL server\n",
    "\n",
    "import pandas as pd\n",
    "import sqlalchemy\n",
    "\n",
    "srv = \"server_name\"\n",
    "db = \"DB_name\"\n",
    "\n",
    "\n",
    "\n",
    "# --If you are windows authenticated user then you need not to provide user name and password \n",
    "# --------------------------------------------------------------------------------------------------\n",
    "# username = 'your_username'  \n",
    "# password = 'your_password'\n",
    "\n",
    "# # Create the connection string\n",
    "# connection_string = f'mssql+pyodbc://{username}:{password}@{server}/{database}?driver=ODBC+Driver+17+for+SQL+Server'\n",
    "\n",
    "# --------------------------------------------------------------------------------------------------\n",
    "\n",
    "\n",
    "# Create the connection string\n",
    "\n",
    "connection_string = \"mssql+pyodbc://\" + srv + \"/\" + db + \"?driver=SQL+Server&trusted_connection=yes\"\n",
    "\n",
    "engine = sqlalchemy.create_engine(connection_string, echo=True) # Set echo to True to see SQL statements\n",
    "\n",
    "# this is where all the raw data will go\n",
    "\n",
    "path = \"D:pathlocation/\"      #make sure to change \\ --> / if working with windows OS\n",
    "datapath = path + \"data/\" + db + \"/\"\n",
    "rawpath = datapath + \"raw/\"\n",
    "outpath = datapath + \"processed/\"\n",
    "\n",
    "import os\n",
    "if not os.path.exists(rawpath):\n",
    "   os.makedirs(rawpath)"
   ]
  },
  {
   "cell_type": "code",
   "execution_count": 8,
   "id": "6fa1c5e3",
   "metadata": {},
   "outputs": [
    {
     "name": "stdout",
     "output_type": "stream",
     "text": [
      "2023-10-13 11:45:58,032 INFO sqlalchemy.engine.Engine BEGIN (implicit)\n",
      "2023-10-13 11:45:58,034 INFO sqlalchemy.engine.Engine SELECT top 10 * FROM dbo.Superstore_orders\n",
      "2023-10-13 11:45:58,034 INFO sqlalchemy.engine.Engine [generated in 0.00052s] ()\n",
      "(1, 'CA-2020-152156', '2020-11-08 00:00:00.0000000', '2020-11-11 00:00:00.0000000', 'Second Class', 'CG-12520', 'Claire Gute', 'Consumer', 'United States', 'Henderson', 'Kentucky', 42420, 'South', 'FUR-BO-10001798', 'Furniture', 'Bookcases', 'Bush Somerset Collection Bookcase', 261.96, 2, 0.0, 41.9136)\n",
      "(2, 'CA-2020-152156', '2020-11-08 00:00:00.0000000', '2020-11-11 00:00:00.0000000', 'Second Class', 'CG-12520', 'Claire Gute', 'Consumer', 'United States', 'Henderson', 'Kentucky', 42420, 'South', 'FUR-CH-10000454', 'Furniture', 'Chairs', 'Hon Deluxe Fabric Upholstered Stacking Chairs, Rounded Back', 731.94, 3, 0.0, 219.582)\n",
      "(3, 'CA-2020-138688', '2020-06-12 00:00:00.0000000', '2020-06-16 00:00:00.0000000', 'Second Class', 'DV-13045', 'Darrin Van Huff', 'Corporate', 'United States', 'Los Angeles', 'California', 90036, 'West', 'OFF-LA-10000240', 'Office Supplies', 'Labels', 'Self-Adhesive Address Labels for Typewriters by Universal', 14.62, 2, 0.0, 6.8714)\n",
      "(4, 'US-2019-108966', '2019-10-11 00:00:00.0000000', '2019-10-18 00:00:00.0000000', 'Standard Class', 'SO-20335', \"Sean O'Donnell\", 'Consumer', 'United States', 'Fort Lauderdale', 'Florida', 33311, 'South', 'FUR-TA-10000577', 'Furniture', 'Tables', 'Bretford CR4500 Series Slim Rectangular Table', 957.5775, 5, 0.45, -383.031)\n",
      "(5, 'US-2019-108966', '2019-10-11 00:00:00.0000000', '2019-10-18 00:00:00.0000000', 'Standard Class', 'SO-20335', \"Sean O'Donnell\", 'Consumer', 'United States', 'Fort Lauderdale', 'Florida', 33311, 'South', 'OFF-ST-10000760', 'Office Supplies', 'Storage', \"Eldon Fold 'N Roll Cart System\", 22.368, 2, 0.2, 2.5164)\n",
      "(6, 'CA-2018-115812', '2018-06-09 00:00:00.0000000', '2018-06-14 00:00:00.0000000', 'Standard Class', 'BH-11710', 'Brosina Hoffman', 'Consumer', 'United States', 'Los Angeles', 'California', 90032, 'West', 'FUR-FU-10001487', 'Furniture', 'Furnishings', 'Eldon Expressions Wood and Plastic Desk Accessories, Cherry Wood', 48.86, 7, 0.0, 14.1694)\n",
      "(7, 'CA-2018-115812', '2018-06-09 00:00:00.0000000', '2018-06-14 00:00:00.0000000', 'Standard Class', 'BH-11710', 'Brosina Hoffman', 'Consumer', 'United States', 'Los Angeles', 'California', 90032, 'West', 'OFF-AR-10002833', 'Office Supplies', 'Art', 'Newell 322', 7.28, 4, 0.0, 1.9656)\n",
      "(8, 'CA-2018-115812', '2018-06-09 00:00:00.0000000', '2018-06-14 00:00:00.0000000', 'Standard Class', 'BH-11710', 'Brosina Hoffman', 'Consumer', 'United States', 'Los Angeles', 'California', 90032, 'West', 'TEC-PH-10002275', 'Technology', 'Phones', 'Mitel 5320 IP Phone VoIP phone', 907.152, 6, 0.2, 90.7152)\n",
      "(9, 'CA-2018-115812', '2018-06-09 00:00:00.0000000', '2018-06-14 00:00:00.0000000', 'Standard Class', 'BH-11710', 'Brosina Hoffman', 'Consumer', 'United States', 'Los Angeles', 'California', 90032, 'West', 'OFF-BI-10003910', 'Office Supplies', 'Binders', 'DXL Angle-View Binders with Locking Rings by Samsill', 18.504, 3, 0.2, 5.7825)\n",
      "(10, 'CA-2018-115812', '2018-06-09 00:00:00.0000000', '2018-06-14 00:00:00.0000000', 'Standard Class', 'BH-11710', 'Brosina Hoffman', 'Consumer', 'United States', 'Los Angeles', 'California', 90032, 'West', 'OFF-AP-10002892', 'Office Supplies', 'Appliances', 'Belkin F5C206VTEL 6 Outlet Surge', 114.9, 5, 0.0, 34.47)\n",
      "2023-10-13 11:45:58,084 INFO sqlalchemy.engine.Engine ROLLBACK\n"
     ]
    }
   ],
   "source": [
    "# check if the connection is working \n",
    "\n",
    "\n",
    "from sqlalchemy.orm import sessionmaker\n",
    "\n",
    "\n",
    "# Create a session\n",
    "Session = sessionmaker(bind=engine)\n",
    "session = Session()\n",
    "\n",
    "# You can now execute SQL queries using the session\n",
    "result = session.execute('SELECT top 10 * FROM dbo.Superstore_orders')\n",
    "for row in result:\n",
    "    print(row)\n",
    "\n",
    "# Close the session when done\n",
    "session.close()"
   ]
  }
 ],
 "metadata": {
  "kernelspec": {
   "display_name": "Python 3 (ipykernel)",
   "language": "python",
   "name": "python3"
  },
  "language_info": {
   "codemirror_mode": {
    "name": "ipython",
    "version": 3
   },
   "file_extension": ".py",
   "mimetype": "text/x-python",
   "name": "python",
   "nbconvert_exporter": "python",
   "pygments_lexer": "ipython3",
   "version": "3.10.9"
  }
 },
 "nbformat": 4,
 "nbformat_minor": 5
}
