{
 "cells": [
  {
   "cell_type": "code",
   "execution_count": null,
   "id": "11aca89d",
   "metadata": {},
   "outputs": [],
   "source": [
    "# list : mutable/changable \n",
    "\n",
    "# append , insert, extend \n",
    "\n",
    "# pop\n"
   ]
  },
  {
   "cell_type": "code",
   "execution_count": 1,
   "id": "c69e47d3",
   "metadata": {},
   "outputs": [
    {
     "name": "stdout",
     "output_type": "stream",
     "text": [
      "manvi\n"
     ]
    },
    {
     "data": {
      "text/plain": [
       "str"
      ]
     },
     "execution_count": 1,
     "metadata": {},
     "output_type": "execute_result"
    }
   ],
   "source": [
    "\n",
    "# lets first check the string\n",
    "\n",
    "\n",
    "str_1 = 'manvi'\n",
    "\n",
    "print(str_1)\n",
    "type(str_1)"
   ]
  },
  {
   "cell_type": "code",
   "execution_count": 2,
   "id": "beb3f98a",
   "metadata": {},
   "outputs": [
    {
     "name": "stdout",
     "output_type": "stream",
     "text": [
      "lather\n"
     ]
    },
    {
     "data": {
      "text/plain": [
       "str"
      ]
     },
     "execution_count": 2,
     "metadata": {},
     "output_type": "execute_result"
    }
   ],
   "source": [
    "str_1 = 'lather'\n",
    "print(str_1)\n",
    "type(str_1)"
   ]
  },
  {
   "cell_type": "code",
   "execution_count": 3,
   "id": "b67b1826",
   "metadata": {},
   "outputs": [
    {
     "data": {
      "text/plain": [
       "'lather'"
      ]
     },
     "execution_count": 3,
     "metadata": {},
     "output_type": "execute_result"
    }
   ],
   "source": [
    "str_1"
   ]
  },
  {
   "cell_type": "code",
   "execution_count": 4,
   "id": "670dda7e",
   "metadata": {},
   "outputs": [
    {
     "data": {
      "text/plain": [
       "'l'"
      ]
     },
     "execution_count": 4,
     "metadata": {},
     "output_type": "execute_result"
    }
   ],
   "source": [
    "str_1[0]  #element at 0 index in string "
   ]
  },
  {
   "cell_type": "code",
   "execution_count": 6,
   "id": "f83266a5",
   "metadata": {},
   "outputs": [
    {
     "ename": "TypeError",
     "evalue": "'str' object does not support item assignment",
     "output_type": "error",
     "traceback": [
      "\u001b[1;31m---------------------------------------------------------------------------\u001b[0m",
      "\u001b[1;31mTypeError\u001b[0m                                 Traceback (most recent call last)",
      "Cell \u001b[1;32mIn[6], line 1\u001b[0m\n\u001b[1;32m----> 1\u001b[0m str_1[\u001b[38;5;241m0\u001b[39m] \u001b[38;5;241m=\u001b[39m \u001b[38;5;124m'\u001b[39m\u001b[38;5;124ms\u001b[39m\u001b[38;5;124m'\u001b[39m\n",
      "\u001b[1;31mTypeError\u001b[0m: 'str' object does not support item assignment"
     ]
    }
   ],
   "source": [
    "str_1[0] = 's'\n",
    "\n",
    "# error  'str' object does not support item assignment\n",
    "\n",
    "\n",
    "# Strings are immutable "
   ]
  },
  {
   "cell_type": "code",
   "execution_count": 7,
   "id": "7bbe05e0",
   "metadata": {},
   "outputs": [
    {
     "data": {
      "text/plain": [
       "list"
      ]
     },
     "execution_count": 7,
     "metadata": {},
     "output_type": "execute_result"
    }
   ],
   "source": [
    "# list \n",
    "\n",
    "\n",
    "type([])"
   ]
  },
  {
   "cell_type": "code",
   "execution_count": 26,
   "id": "cbf039f9",
   "metadata": {},
   "outputs": [],
   "source": [
    "list_1 = [2,3,'manvi','hello']  # homogeneous data in list "
   ]
  },
  {
   "cell_type": "code",
   "execution_count": 10,
   "id": "4627f02b",
   "metadata": {},
   "outputs": [
    {
     "data": {
      "text/plain": [
       "2"
      ]
     },
     "execution_count": 10,
     "metadata": {},
     "output_type": "execute_result"
    }
   ],
   "source": [
    "list_1[0]"
   ]
  },
  {
   "cell_type": "code",
   "execution_count": 12,
   "id": "f4e21c7b",
   "metadata": {},
   "outputs": [
    {
     "data": {
      "text/plain": [
       "[2, 3, 'manvi', 'lather']"
      ]
     },
     "execution_count": 12,
     "metadata": {},
     "output_type": "execute_result"
    }
   ],
   "source": [
    "list_1[3] = \"lather\"\n",
    "\n",
    "\n",
    "list_1   #list are mutable "
   ]
  },
  {
   "cell_type": "code",
   "execution_count": 27,
   "id": "48fba45a",
   "metadata": {},
   "outputs": [
    {
     "data": {
      "text/plain": [
       "[2, 3, 'manvi', 'hello', ['sam', 'bin']]"
      ]
     },
     "execution_count": 27,
     "metadata": {},
     "output_type": "execute_result"
    }
   ],
   "source": [
    "# append \n",
    "\n",
    "\n",
    "list_1.append([\"sam\",\"bin\"]) #nested list \n",
    "\n",
    "list_1"
   ]
  },
  {
   "cell_type": "code",
   "execution_count": 14,
   "id": "a15d3f0b",
   "metadata": {},
   "outputs": [
    {
     "data": {
      "text/plain": [
       "['sam', 'bin']"
      ]
     },
     "execution_count": 14,
     "metadata": {},
     "output_type": "execute_result"
    }
   ],
   "source": [
    "# indexing \n",
    "\n",
    "\n",
    "list_1[4]"
   ]
  },
  {
   "cell_type": "code",
   "execution_count": 15,
   "id": "d62c9c63",
   "metadata": {},
   "outputs": [
    {
     "data": {
      "text/plain": [
       "'bin'"
      ]
     },
     "execution_count": 15,
     "metadata": {},
     "output_type": "execute_result"
    }
   ],
   "source": [
    "# I want bin\n",
    "\n",
    "list_1[4][1]"
   ]
  },
  {
   "cell_type": "code",
   "execution_count": 16,
   "id": "f07494e7",
   "metadata": {},
   "outputs": [
    {
     "data": {
      "text/plain": [
       "[2, 3, 'manvi', 'lather', ['sam', 'bin']]"
      ]
     },
     "execution_count": 16,
     "metadata": {},
     "output_type": "execute_result"
    }
   ],
   "source": [
    "# slicing \n",
    "\n",
    "list_1[:]"
   ]
  },
  {
   "cell_type": "code",
   "execution_count": 17,
   "id": "81a9e7b5",
   "metadata": {},
   "outputs": [
    {
     "data": {
      "text/plain": [
       "['manvi', 'lather', ['sam', 'bin']]"
      ]
     },
     "execution_count": 17,
     "metadata": {},
     "output_type": "execute_result"
    }
   ],
   "source": [
    "list_1[2:]"
   ]
  },
  {
   "cell_type": "code",
   "execution_count": 23,
   "id": "5acfc718",
   "metadata": {},
   "outputs": [
    {
     "data": {
      "text/plain": [
       "['sam', 'bin']"
      ]
     },
     "execution_count": 23,
     "metadata": {},
     "output_type": "execute_result"
    }
   ],
   "source": [
    "list_1[-1]"
   ]
  },
  {
   "cell_type": "code",
   "execution_count": 28,
   "id": "c1f35965",
   "metadata": {},
   "outputs": [
    {
     "data": {
      "text/plain": [
       "[2, 'shakti', 3, 'manvi', 'hello', ['sam', 'bin']]"
      ]
     },
     "execution_count": 28,
     "metadata": {},
     "output_type": "execute_result"
    }
   ],
   "source": [
    "# I want to add \"shakti\" at index 1\n",
    "\n",
    "list_1.insert(1,'shakti')\n",
    "\n",
    "\n",
    "list_1\n"
   ]
  },
  {
   "cell_type": "code",
   "execution_count": 29,
   "id": "9deaba55",
   "metadata": {},
   "outputs": [],
   "source": [
    "# #  diff in append and insert . \n",
    "\n",
    "\n",
    "# -- in append element is added in the last \n",
    "\n",
    "# --in insert , we can specify the index "
   ]
  },
  {
   "cell_type": "code",
   "execution_count": 31,
   "id": "28e79e86",
   "metadata": {},
   "outputs": [],
   "source": [
    "# Extend Methods"
   ]
  },
  {
   "cell_type": "code",
   "execution_count": 32,
   "id": "c456aa50",
   "metadata": {},
   "outputs": [],
   "source": [
    "list_1.extend(['sunita'])"
   ]
  },
  {
   "cell_type": "code",
   "execution_count": 33,
   "id": "c9208ac1",
   "metadata": {},
   "outputs": [
    {
     "data": {
      "text/plain": [
       "[2, 'shakti', 3, 'manvi', 'hello', ['sam', 'bin'], 'sunita']"
      ]
     },
     "execution_count": 33,
     "metadata": {},
     "output_type": "execute_result"
    }
   ],
   "source": [
    "list_1"
   ]
  },
  {
   "cell_type": "code",
   "execution_count": 34,
   "id": "2a78b7ce",
   "metadata": {},
   "outputs": [],
   "source": [
    "list_1.extend(['roy','rayn'])"
   ]
  },
  {
   "cell_type": "code",
   "execution_count": 35,
   "id": "4604f815",
   "metadata": {},
   "outputs": [
    {
     "data": {
      "text/plain": [
       "[2, 'shakti', 3, 'manvi', 'hello', ['sam', 'bin'], 'sunita', 'roy', 'rayn']"
      ]
     },
     "execution_count": 35,
     "metadata": {},
     "output_type": "execute_result"
    }
   ],
   "source": [
    "list_1"
   ]
  },
  {
   "cell_type": "code",
   "execution_count": 36,
   "id": "fd36caba",
   "metadata": {},
   "outputs": [
    {
     "data": {
      "text/plain": [
       "'shakti'"
      ]
     },
     "execution_count": 36,
     "metadata": {},
     "output_type": "execute_result"
    }
   ],
   "source": [
    "list_1.pop(1)"
   ]
  },
  {
   "cell_type": "code",
   "execution_count": null,
   "id": "76f06681",
   "metadata": {},
   "outputs": [],
   "source": []
  }
 ],
 "metadata": {
  "kernelspec": {
   "display_name": "Python 3 (ipykernel)",
   "language": "python",
   "name": "python3"
  },
  "language_info": {
   "codemirror_mode": {
    "name": "ipython",
    "version": 3
   },
   "file_extension": ".py",
   "mimetype": "text/x-python",
   "name": "python",
   "nbconvert_exporter": "python",
   "pygments_lexer": "ipython3",
   "version": "3.10.9"
  }
 },
 "nbformat": 4,
 "nbformat_minor": 5
}
