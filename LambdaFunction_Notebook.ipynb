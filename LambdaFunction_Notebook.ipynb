{
 "cells": [
  {
   "cell_type": "code",
   "execution_count": null,
   "id": "3fc99304",
   "metadata": {},
   "outputs": [],
   "source": [
    "# A lambda function is a small anonymous function"
   ]
  },
  {
   "cell_type": "code",
   "execution_count": null,
   "id": "595960d3",
   "metadata": {},
   "outputs": [],
   "source": [
    "\n",
    "# create the function \n",
    "# f = lambda_keyword     input arguments  :  operation /expression\n",
    "\n",
    "\n",
    "\n",
    "#    call the function \n",
    "\n",
    "\n",
    "# f (input arguments)"
   ]
  },
  {
   "cell_type": "code",
   "execution_count": 24,
   "id": "c11edd26",
   "metadata": {},
   "outputs": [
    {
     "data": {
      "text/plain": [
       "<function __main__.<lambda>(x, y)>"
      ]
     },
     "execution_count": 24,
     "metadata": {},
     "output_type": "execute_result"
    }
   ],
   "source": [
    "f = lambda x,y : x+y \n",
    "f "
   ]
  },
  {
   "cell_type": "code",
   "execution_count": 19,
   "id": "4fd21d14",
   "metadata": {},
   "outputs": [
    {
     "data": {
      "text/plain": [
       "11"
      ]
     },
     "execution_count": 19,
     "metadata": {},
     "output_type": "execute_result"
    }
   ],
   "source": [
    "# call the function\n",
    "\n",
    "f(5,6)"
   ]
  },
  {
   "cell_type": "code",
   "execution_count": 20,
   "id": "a4177446",
   "metadata": {},
   "outputs": [
    {
     "data": {
      "text/plain": [
       "12"
      ]
     },
     "execution_count": 20,
     "metadata": {},
     "output_type": "execute_result"
    }
   ],
   "source": [
    "#return the length of string \n",
    "\n",
    "string_length = lambda s: len(s)\n",
    "\n",
    "string_length(\"manvi lather\")"
   ]
  },
  {
   "cell_type": "code",
   "execution_count": 21,
   "id": "7242c90e",
   "metadata": {},
   "outputs": [
    {
     "data": {
      "text/plain": [
       "12"
      ]
     },
     "execution_count": 21,
     "metadata": {},
     "output_type": "execute_result"
    }
   ],
   "source": [
    "multiply = lambda x,y : x*y\n",
    "\n",
    "multiply(3,4)"
   ]
  },
  {
   "cell_type": "code",
   "execution_count": 22,
   "id": "bbddcde4",
   "metadata": {},
   "outputs": [
    {
     "data": {
      "text/plain": [
       "9"
      ]
     },
     "execution_count": 22,
     "metadata": {},
     "output_type": "execute_result"
    }
   ],
   "source": [
    "# square of two numbers \n",
    "\n",
    "square = lambda x,y : x**2\n",
    "\n",
    "square(3,4)"
   ]
  },
  {
   "cell_type": "code",
   "execution_count": 23,
   "id": "e9cd22db",
   "metadata": {},
   "outputs": [
    {
     "name": "stdout",
     "output_type": "stream",
     "text": [
      "[1, 4, 9, 16, 25, 36]\n"
     ]
    }
   ],
   "source": [
    "# task 1 : convert a list of interger to their corresponding square values : \n",
    "\n",
    "num_list = [1,2,3,4,5,6]\n",
    "\n",
    "square_num = (lambda x :x**2)   #lambda function cal square of a num\n",
    "\n",
    "\n",
    "sqaure_map = map(square_num,num_list) # map function is used to apply lambda function to each num in the num_list\n",
    "\n",
    "sqaure_list = list(sqaure_map) # to convert the result to list \n",
    "\n",
    "print(sqaure_list) \n",
    "\n",
    "\n"
   ]
  },
  {
   "cell_type": "code",
   "execution_count": 17,
   "id": "b6effd86",
   "metadata": {},
   "outputs": [
    {
     "name": "stdout",
     "output_type": "stream",
     "text": [
      "[1, 4, 9, 16, 25, 36]\n"
     ]
    }
   ],
   "source": [
    "#  re-write the above funnction\n",
    "\n",
    "num_list = [1,2,3,4,5,6]\n",
    "sqaure_list= list(map((lambda x :x**2),num_list))  \n",
    "print(sqaure_list) \n"
   ]
  },
  {
   "cell_type": "code",
   "execution_count": 28,
   "id": "827441fb",
   "metadata": {},
   "outputs": [
    {
     "name": "stdout",
     "output_type": "stream",
     "text": [
      "[1, 4, 9, 16, 25, 36]\n"
     ]
    }
   ],
   "source": [
    "# map function is a replacement of for loop \n",
    "\n",
    "# lets use for loop instead of map in the above code.\n",
    "\n",
    "# or we can say  tradition way of writing the code  \n",
    "\n",
    "num_list = [1,2,3,4,5,6]\n",
    "\n",
    "square_num : lambda x : X**2\n",
    "\n",
    "square_list = []\n",
    "\n",
    "for num in num_list : \n",
    "    y = square_num(num)\n",
    "    square_list.append(y)\n",
    "\n",
    "print(square_list)\n",
    "    \n",
    "\n",
    "\n",
    "\n"
   ]
  },
  {
   "cell_type": "code",
   "execution_count": 32,
   "id": "6c5e27e4",
   "metadata": {},
   "outputs": [
    {
     "data": {
      "text/plain": [
       "[0, 2, 4, 6, 8, 10, 12, 14, 16, 18]"
      ]
     },
     "execution_count": 32,
     "metadata": {},
     "output_type": "execute_result"
    }
   ],
   "source": [
    "# task 2 : filter out even numbers from the list : \n",
    "\n",
    "Num_list= range(20)\n",
    "\n",
    "\n",
    "# lambda function \n",
    "\n",
    "even_num = list(filter(lambda num : num% 2 == 0, Num_list))\n",
    "even_num\n",
    "\n",
    "\n",
    "# here we have used filter function . Filter function run the lambda fucntion on each element of the list and return only TRUE values \n",
    "    "
   ]
  },
  {
   "cell_type": "code",
   "execution_count": 34,
   "id": "31728a76",
   "metadata": {},
   "outputs": [
    {
     "data": {
      "text/plain": [
       "[0, 2, 4, 6, 8, 10, 12, 14, 16, 18]"
      ]
     },
     "execution_count": 34,
     "metadata": {},
     "output_type": "execute_result"
    }
   ],
   "source": [
    "# traditional way of writing the same code : \n",
    "\n",
    "\n",
    "\n",
    "Num_list= range(20)\n",
    "\n",
    "even_list=[]\n",
    "for num in Num_list: \n",
    "    if num % 2 == 0: \n",
    "        even_list.append(num)\n",
    "even_list\n",
    "        "
   ]
  },
  {
   "cell_type": "code",
   "execution_count": 38,
   "id": "39e351ce",
   "metadata": {},
   "outputs": [
    {
     "name": "stdout",
     "output_type": "stream",
     "text": [
      "['apple', 'banana', 'blueberry', 'cherry', 'fig', 'kiwi']\n",
      "['fig', 'kiwi', 'apple', 'banana', 'cherry', 'blueberry']\n"
     ]
    }
   ],
   "source": [
    "# task 3 : Sort a list of strings based on their alphabetical character and length \n",
    "\n",
    "# traditional way \n",
    "\n",
    "\n",
    "string_list = ['apple','banana','kiwi','cherry','blueberry','fig']\n",
    "\n",
    "print(sorted(string_list))  #sorting on only alphabetical character\n",
    "\n",
    "\n",
    "print(sorted(string_list,key= lambda x:len(x)))\n",
    "\n",
    "    \n"
   ]
  },
  {
   "cell_type": "code",
   "execution_count": 40,
   "id": "8c03f546",
   "metadata": {},
   "outputs": [
    {
     "data": {
      "text/plain": [
       "[{'name': 'Alice', 'age': 25, 'occupation': 'Engineer'},\n",
       " {'name': 'Bob', 'age': 30, 'occupation': 'Manager'},\n",
       " {'name': 'Charlie', 'age': 22, 'occupation': 'Intern'},\n",
       " {'name': 'Dave', 'age': 27, 'occupation': 'Designer'}]"
      ]
     },
     "execution_count": 40,
     "metadata": {},
     "output_type": "execute_result"
    }
   ],
   "source": [
    "# task 4 :  sorting a list of dictionaries based on a specific key \n",
    "\n",
    "people = [\n",
    "    {'name': 'Alice', 'age': 25, 'occupation': 'Engineer'},\n",
    "    {'name': 'Bob', 'age': 30, 'occupation': 'Manager'},\n",
    "    {'name': 'Charlie', 'age': 22, 'occupation': 'Intern'},\n",
    "    {'name': 'Dave', 'age': 27, 'occupation': 'Designer'},\n",
    "]\n",
    "\n",
    "people"
   ]
  },
  {
   "cell_type": "code",
   "execution_count": 42,
   "id": "b2eb32eb",
   "metadata": {},
   "outputs": [
    {
     "data": {
      "text/plain": [
       "[{'name': 'Charlie', 'age': 22, 'occupation': 'Intern'},\n",
       " {'name': 'Alice', 'age': 25, 'occupation': 'Engineer'},\n",
       " {'name': 'Dave', 'age': 27, 'occupation': 'Designer'},\n",
       " {'name': 'Bob', 'age': 30, 'occupation': 'Manager'}]"
      ]
     },
     "execution_count": 42,
     "metadata": {},
     "output_type": "execute_result"
    }
   ],
   "source": [
    "# sort using age \n",
    "\n",
    "sorted(people, key= lambda x: x['age'])"
   ]
  },
  {
   "cell_type": "code",
   "execution_count": 44,
   "id": "68de6e38",
   "metadata": {},
   "outputs": [
    {
     "data": {
      "text/plain": [
       "[{'name': 'Charlie', 'age': 22, 'occupation': 'Intern'},\n",
       " {'name': 'Alice', 'age': 25, 'occupation': 'Engineer'},\n",
       " {'name': 'Dave', 'age': 27, 'occupation': 'Designer'},\n",
       " {'name': 'Bob', 'age': 30, 'occupation': 'Manager'}]"
      ]
     },
     "execution_count": 44,
     "metadata": {},
     "output_type": "execute_result"
    }
   ],
   "source": [
    "# two colum are used to sort \n",
    "\n",
    "sorted(people, key= lambda x: (x['age'],x['name']))"
   ]
  },
  {
   "cell_type": "code",
   "execution_count": 60,
   "id": "bfc44976",
   "metadata": {},
   "outputs": [
    {
     "name": "stdout",
     "output_type": "stream",
     "text": [
      "<class 'list'>\n",
      "\n",
      "\n"
     ]
    },
    {
     "data": {
      "text/plain": [
       "9"
      ]
     },
     "execution_count": 60,
     "metadata": {},
     "output_type": "execute_result"
    }
   ],
   "source": [
    "# task 5a  : \n",
    "\n",
    "## Finding max num\n",
    "\n",
    "\n",
    "data = list(range(10))  #Create a sequence of numbers\n",
    "\n",
    "print(type(data))\n",
    "\n",
    "\n",
    "print('\\n')\n",
    "\n",
    "max(data)"
   ]
  },
  {
   "cell_type": "code",
   "execution_count": 1,
   "id": "4fb695fb",
   "metadata": {},
   "outputs": [
    {
     "data": {
      "text/plain": [
       "'b'"
      ]
     },
     "execution_count": 1,
     "metadata": {},
     "output_type": "execute_result"
    }
   ],
   "source": [
    "# task 5 b: \n",
    "\n",
    "## Finding the key with maximum value in a dictionary\n",
    "\n",
    "\n",
    "data = {'a': 10, 'b': 20, 'c': 5, 'd': 15}\n",
    "\n",
    "\n",
    "\n",
    "max(data,key=lambda x:data[x])"
   ]
  },
  {
   "cell_type": "code",
   "execution_count": null,
   "id": "adcc006c",
   "metadata": {},
   "outputs": [],
   "source": []
  }
 ],
 "metadata": {
  "kernelspec": {
   "display_name": "Python 3 (ipykernel)",
   "language": "python",
   "name": "python3"
  },
  "language_info": {
   "codemirror_mode": {
    "name": "ipython",
    "version": 3
   },
   "file_extension": ".py",
   "mimetype": "text/x-python",
   "name": "python",
   "nbconvert_exporter": "python",
   "pygments_lexer": "ipython3",
   "version": "3.10.9"
  }
 },
 "nbformat": 4,
 "nbformat_minor": 5
}
